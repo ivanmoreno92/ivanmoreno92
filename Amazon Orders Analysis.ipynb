{
 "cells": [
  {
   "cell_type": "code",
   "execution_count": 1,
   "id": "06485018",
   "metadata": {},
   "outputs": [],
   "source": [
    "import pandas as pd"
   ]
  },
  {
   "cell_type": "code",
   "execution_count": 2,
   "id": "0abc465c",
   "metadata": {},
   "outputs": [],
   "source": [
    "df = pd.read_csv('Retail.OrderHistory.2.csv')"
   ]
  },
  {
   "cell_type": "code",
   "execution_count": 3,
   "id": "383f7d1f",
   "metadata": {},
   "outputs": [
    {
     "name": "stdout",
     "output_type": "stream",
     "text": [
      "<class 'pandas.core.frame.DataFrame'>\n",
      "RangeIndex: 42 entries, 0 to 41\n",
      "Data columns (total 27 columns):\n",
      " #   Column                          Non-Null Count  Dtype  \n",
      "---  ------                          --------------  -----  \n",
      " 0   Website                         42 non-null     object \n",
      " 1   Order ID                        42 non-null     object \n",
      " 2   Order Date                      42 non-null     object \n",
      " 3   Purchase Order Number           0 non-null      float64\n",
      " 4   Currency                        42 non-null     object \n",
      " 5   Unit Price                      42 non-null     float64\n",
      " 6   Unit Price Tax                  42 non-null     float64\n",
      " 7   Shipping Charge                 42 non-null     float64\n",
      " 8   Total Discounts                 42 non-null     object \n",
      " 9   Total Owed                      42 non-null     float64\n",
      " 10  Shipment Item Subtotal          42 non-null     float64\n",
      " 11  Shipment Item Subtotal Tax      42 non-null     float64\n",
      " 12  ASIN                            42 non-null     object \n",
      " 13  Product Condition               42 non-null     object \n",
      " 14  Quantity                        42 non-null     int64  \n",
      " 15  Payment Instrument Type         42 non-null     object \n",
      " 16  Order Status                    42 non-null     object \n",
      " 17  Shipment Status                 42 non-null     object \n",
      " 18  Ship Date                       42 non-null     object \n",
      " 19  Shipping Option                 37 non-null     object \n",
      " 20  Shipping Address                37 non-null     object \n",
      " 21  Billing Address                 37 non-null     object \n",
      " 22  Carrier Name & Tracking Number  36 non-null     object \n",
      " 23  Product Name                    42 non-null     object \n",
      " 24  Gift Message                    3 non-null      object \n",
      " 25  Gift Sender Name                3 non-null      object \n",
      " 26  Gift Recipient Contact Details  0 non-null      float64\n",
      "dtypes: float64(8), int64(1), object(18)\n",
      "memory usage: 9.0+ KB\n"
     ]
    }
   ],
   "source": [
    "df.info()"
   ]
  },
  {
   "cell_type": "code",
   "execution_count": 10,
   "id": "1bfee754",
   "metadata": {},
   "outputs": [],
   "source": [
    "columns_to_drop = ['Website','Order ID','Purchase Order Number','Currency', 'Shipment Item Subtotal', 'Shipment Item Subtotal Tax','ASIN', 'Product Condition', 'Payment Instrument Type', 'Order Status', 'Ship Date', 'Billing Address','Shipment Status', 'Shipping Option', 'Shipping Address', 'Carrier Name & Tracking Number', 'Gift Message', 'Gift Sender Name', 'Gift Recipient Contact Details']"
   ]
  },
  {
   "cell_type": "code",
   "execution_count": 13,
   "id": "49d1fe64",
   "metadata": {},
   "outputs": [],
   "source": [
    "df = df.drop(columns_to_drop, axis=1)"
   ]
  },
  {
   "cell_type": "code",
   "execution_count": 15,
   "id": "4511c3c1",
   "metadata": {},
   "outputs": [
    {
     "data": {
      "text/plain": [
       "(42, 8)"
      ]
     },
     "execution_count": 15,
     "metadata": {},
     "output_type": "execute_result"
    }
   ],
   "source": [
    "df.shape"
   ]
  },
  {
   "cell_type": "code",
   "execution_count": 16,
   "id": "b2643667",
   "metadata": {},
   "outputs": [
    {
     "name": "stdout",
     "output_type": "stream",
     "text": [
      "<class 'pandas.core.frame.DataFrame'>\n",
      "RangeIndex: 42 entries, 0 to 41\n",
      "Data columns (total 8 columns):\n",
      " #   Column           Non-Null Count  Dtype  \n",
      "---  ------           --------------  -----  \n",
      " 0   Order Date       42 non-null     object \n",
      " 1   Unit Price       42 non-null     float64\n",
      " 2   Unit Price Tax   42 non-null     float64\n",
      " 3   Shipping Charge  42 non-null     float64\n",
      " 4   Total Discounts  42 non-null     object \n",
      " 5   Total Owed       42 non-null     float64\n",
      " 6   Quantity         42 non-null     int64  \n",
      " 7   Product Name     42 non-null     object \n",
      "dtypes: float64(4), int64(1), object(3)\n",
      "memory usage: 2.8+ KB\n"
     ]
    }
   ],
   "source": [
    "df.info()"
   ]
  },
  {
   "cell_type": "code",
   "execution_count": 17,
   "id": "cd1b9e95",
   "metadata": {},
   "outputs": [
    {
     "data": {
      "text/html": [
       "<div>\n",
       "<style scoped>\n",
       "    .dataframe tbody tr th:only-of-type {\n",
       "        vertical-align: middle;\n",
       "    }\n",
       "\n",
       "    .dataframe tbody tr th {\n",
       "        vertical-align: top;\n",
       "    }\n",
       "\n",
       "    .dataframe thead th {\n",
       "        text-align: right;\n",
       "    }\n",
       "</style>\n",
       "<table border=\"1\" class=\"dataframe\">\n",
       "  <thead>\n",
       "    <tr style=\"text-align: right;\">\n",
       "      <th></th>\n",
       "      <th>Order Date</th>\n",
       "      <th>Unit Price</th>\n",
       "      <th>Unit Price Tax</th>\n",
       "      <th>Shipping Charge</th>\n",
       "      <th>Total Discounts</th>\n",
       "      <th>Total Owed</th>\n",
       "      <th>Quantity</th>\n",
       "      <th>Product Name</th>\n",
       "    </tr>\n",
       "  </thead>\n",
       "  <tbody>\n",
       "    <tr>\n",
       "      <th>0</th>\n",
       "      <td>10/18/2022 19:56:58 UTC</td>\n",
       "      <td>1.35</td>\n",
       "      <td>0.00</td>\n",
       "      <td>0.00</td>\n",
       "      <td>0</td>\n",
       "      <td>2.70</td>\n",
       "      <td>2</td>\n",
       "      <td>by Amazon Melon &amp; Grape, 300g</td>\n",
       "    </tr>\n",
       "    <tr>\n",
       "      <th>1</th>\n",
       "      <td>10/14/2022 10:39:19 UTC</td>\n",
       "      <td>11.99</td>\n",
       "      <td>0.00</td>\n",
       "      <td>0.00</td>\n",
       "      <td>0</td>\n",
       "      <td>11.99</td>\n",
       "      <td>1</td>\n",
       "      <td>IMPROVEFIT Posture Corrector for Men and Women...</td>\n",
       "    </tr>\n",
       "    <tr>\n",
       "      <th>2</th>\n",
       "      <td>10/14/2022 10:39:19 UTC</td>\n",
       "      <td>23.32</td>\n",
       "      <td>4.67</td>\n",
       "      <td>0.00</td>\n",
       "      <td>'-1.4'</td>\n",
       "      <td>26.59</td>\n",
       "      <td>1</td>\n",
       "      <td>Surface Pro 8 Hub Docking Station with 4K HDMI...</td>\n",
       "    </tr>\n",
       "    <tr>\n",
       "      <th>3</th>\n",
       "      <td>07/25/2022 15:54:47 UTC</td>\n",
       "      <td>19.81</td>\n",
       "      <td>0.00</td>\n",
       "      <td>0.00</td>\n",
       "      <td>0</td>\n",
       "      <td>19.81</td>\n",
       "      <td>1</td>\n",
       "      <td>SanDisk Ultra Flair Memoria flash USB 3.0 de 1...</td>\n",
       "    </tr>\n",
       "    <tr>\n",
       "      <th>4</th>\n",
       "      <td>06/21/2022 22:13:26 UTC</td>\n",
       "      <td>10.82</td>\n",
       "      <td>2.17</td>\n",
       "      <td>4.99</td>\n",
       "      <td>0</td>\n",
       "      <td>17.98</td>\n",
       "      <td>1</td>\n",
       "      <td>Wrist Wraps Weightlifting Powerlifting - Set o...</td>\n",
       "    </tr>\n",
       "  </tbody>\n",
       "</table>\n",
       "</div>"
      ],
      "text/plain": [
       "                Order Date  Unit Price  Unit Price Tax  Shipping Charge  \\\n",
       "0  10/18/2022 19:56:58 UTC        1.35            0.00             0.00   \n",
       "1  10/14/2022 10:39:19 UTC       11.99            0.00             0.00   \n",
       "2  10/14/2022 10:39:19 UTC       23.32            4.67             0.00   \n",
       "3  07/25/2022 15:54:47 UTC       19.81            0.00             0.00   \n",
       "4  06/21/2022 22:13:26 UTC       10.82            2.17             4.99   \n",
       "\n",
       "  Total Discounts  Total Owed  Quantity  \\\n",
       "0               0        2.70         2   \n",
       "1               0       11.99         1   \n",
       "2          '-1.4'       26.59         1   \n",
       "3               0       19.81         1   \n",
       "4               0       17.98         1   \n",
       "\n",
       "                                        Product Name  \n",
       "0                      by Amazon Melon & Grape, 300g  \n",
       "1  IMPROVEFIT Posture Corrector for Men and Women...  \n",
       "2  Surface Pro 8 Hub Docking Station with 4K HDMI...  \n",
       "3  SanDisk Ultra Flair Memoria flash USB 3.0 de 1...  \n",
       "4  Wrist Wraps Weightlifting Powerlifting - Set o...  "
      ]
     },
     "execution_count": 17,
     "metadata": {},
     "output_type": "execute_result"
    }
   ],
   "source": [
    "df.head()"
   ]
  },
  {
   "cell_type": "code",
   "execution_count": 22,
   "id": "cf805c13",
   "metadata": {},
   "outputs": [
    {
     "data": {
      "text/html": [
       "<div>\n",
       "<style scoped>\n",
       "    .dataframe tbody tr th:only-of-type {\n",
       "        vertical-align: middle;\n",
       "    }\n",
       "\n",
       "    .dataframe tbody tr th {\n",
       "        vertical-align: top;\n",
       "    }\n",
       "\n",
       "    .dataframe thead th {\n",
       "        text-align: right;\n",
       "    }\n",
       "</style>\n",
       "<table border=\"1\" class=\"dataframe\">\n",
       "  <thead>\n",
       "    <tr style=\"text-align: right;\">\n",
       "      <th></th>\n",
       "      <th>Unit Price</th>\n",
       "      <th>Unit Price Tax</th>\n",
       "      <th>Shipping Charge</th>\n",
       "      <th>Total Owed</th>\n",
       "      <th>Quantity</th>\n",
       "    </tr>\n",
       "  </thead>\n",
       "  <tbody>\n",
       "    <tr>\n",
       "      <th>count</th>\n",
       "      <td>42.000000</td>\n",
       "      <td>42.000000</td>\n",
       "      <td>42.000000</td>\n",
       "      <td>42.000000</td>\n",
       "      <td>42.000000</td>\n",
       "    </tr>\n",
       "    <tr>\n",
       "      <th>mean</th>\n",
       "      <td>11.918810</td>\n",
       "      <td>1.181429</td>\n",
       "      <td>1.002857</td>\n",
       "      <td>13.916190</td>\n",
       "      <td>1.023810</td>\n",
       "    </tr>\n",
       "    <tr>\n",
       "      <th>std</th>\n",
       "      <td>8.089375</td>\n",
       "      <td>1.637256</td>\n",
       "      <td>1.894024</td>\n",
       "      <td>9.113939</td>\n",
       "      <td>0.154303</td>\n",
       "    </tr>\n",
       "    <tr>\n",
       "      <th>min</th>\n",
       "      <td>0.950000</td>\n",
       "      <td>0.000000</td>\n",
       "      <td>0.000000</td>\n",
       "      <td>0.370000</td>\n",
       "      <td>1.000000</td>\n",
       "    </tr>\n",
       "    <tr>\n",
       "      <th>25%</th>\n",
       "      <td>7.092500</td>\n",
       "      <td>0.000000</td>\n",
       "      <td>0.000000</td>\n",
       "      <td>8.240000</td>\n",
       "      <td>1.000000</td>\n",
       "    </tr>\n",
       "    <tr>\n",
       "      <th>50%</th>\n",
       "      <td>9.970000</td>\n",
       "      <td>0.245000</td>\n",
       "      <td>0.000000</td>\n",
       "      <td>13.230000</td>\n",
       "      <td>1.000000</td>\n",
       "    </tr>\n",
       "    <tr>\n",
       "      <th>75%</th>\n",
       "      <td>14.990000</td>\n",
       "      <td>1.805000</td>\n",
       "      <td>0.250000</td>\n",
       "      <td>17.732500</td>\n",
       "      <td>1.000000</td>\n",
       "    </tr>\n",
       "    <tr>\n",
       "      <th>max</th>\n",
       "      <td>36.990000</td>\n",
       "      <td>7.540000</td>\n",
       "      <td>5.990000</td>\n",
       "      <td>43.450000</td>\n",
       "      <td>2.000000</td>\n",
       "    </tr>\n",
       "  </tbody>\n",
       "</table>\n",
       "</div>"
      ],
      "text/plain": [
       "       Unit Price  Unit Price Tax  Shipping Charge  Total Owed   Quantity\n",
       "count   42.000000       42.000000        42.000000   42.000000  42.000000\n",
       "mean    11.918810        1.181429         1.002857   13.916190   1.023810\n",
       "std      8.089375        1.637256         1.894024    9.113939   0.154303\n",
       "min      0.950000        0.000000         0.000000    0.370000   1.000000\n",
       "25%      7.092500        0.000000         0.000000    8.240000   1.000000\n",
       "50%      9.970000        0.245000         0.000000   13.230000   1.000000\n",
       "75%     14.990000        1.805000         0.250000   17.732500   1.000000\n",
       "max     36.990000        7.540000         5.990000   43.450000   2.000000"
      ]
     },
     "execution_count": 22,
     "metadata": {},
     "output_type": "execute_result"
    }
   ],
   "source": [
    "df.describe()"
   ]
  },
  {
   "cell_type": "code",
   "execution_count": null,
   "id": "06796a41",
   "metadata": {},
   "outputs": [],
   "source": [
    "# We can extract a few insights from the descriptive statistics: \n",
    "    # Over the years, I have made a total of 42 orders in Amazon\n",
    "    # My average spend for order is 13.9£\n",
    "    # My cheapest order was 0.37£!? I should investigate this further\n",
    "    # My most expensive order was 43.45£\n",
    "    # My first order was on 31 of October 2016, and it was actually two items: a case and a screen protector for my new Iphone 7!\n",
    "    # My last order was on 18 of October 2022, and it was a small grocery shopping at Amazon Fresh store. "
   ]
  },
  {
   "cell_type": "code",
   "execution_count": 21,
   "id": "d8da568c",
   "metadata": {},
   "outputs": [
    {
     "name": "stdout",
     "output_type": "stream",
     "text": [
      "I have spent on Amazon a total of: £ 584.48\n"
     ]
    }
   ],
   "source": [
    "print('I have spent on Amazon a total of: £', df['Total Owed'].sum())"
   ]
  },
  {
   "cell_type": "code",
   "execution_count": 48,
   "id": "598ae3a2",
   "metadata": {},
   "outputs": [
    {
     "name": "stdout",
     "output_type": "stream",
     "text": [
      "I have spent on Tax a total of: £ 49.62\n"
     ]
    }
   ],
   "source": [
    "#Let's find out how much I have spent on tax\n",
    "print('I have spent on Tax a total of: £', df['Unit Price Tax'].sum())"
   ]
  },
  {
   "cell_type": "code",
   "execution_count": 23,
   "id": "fe293ece",
   "metadata": {},
   "outputs": [],
   "source": [
    "#Let's find out when was my first and last order!"
   ]
  },
  {
   "cell_type": "code",
   "execution_count": 38,
   "id": "81c36f33",
   "metadata": {},
   "outputs": [],
   "source": [
    "df_1 = df[['Order Date', 'Product Name']]"
   ]
  },
  {
   "cell_type": "code",
   "execution_count": 39,
   "id": "19c177f0",
   "metadata": {},
   "outputs": [
    {
     "data": {
      "text/html": [
       "<div>\n",
       "<style scoped>\n",
       "    .dataframe tbody tr th:only-of-type {\n",
       "        vertical-align: middle;\n",
       "    }\n",
       "\n",
       "    .dataframe tbody tr th {\n",
       "        vertical-align: top;\n",
       "    }\n",
       "\n",
       "    .dataframe thead th {\n",
       "        text-align: right;\n",
       "    }\n",
       "</style>\n",
       "<table border=\"1\" class=\"dataframe\">\n",
       "  <thead>\n",
       "    <tr style=\"text-align: right;\">\n",
       "      <th></th>\n",
       "      <th>Order Date</th>\n",
       "      <th>Product Name</th>\n",
       "    </tr>\n",
       "  </thead>\n",
       "  <tbody>\n",
       "    <tr>\n",
       "      <th>0</th>\n",
       "      <td>10/18/2022 19:56:58 UTC</td>\n",
       "      <td>by Amazon Melon &amp; Grape, 300g</td>\n",
       "    </tr>\n",
       "    <tr>\n",
       "      <th>1</th>\n",
       "      <td>10/14/2022 10:39:19 UTC</td>\n",
       "      <td>IMPROVEFIT Posture Corrector for Men and Women...</td>\n",
       "    </tr>\n",
       "    <tr>\n",
       "      <th>2</th>\n",
       "      <td>10/14/2022 10:39:19 UTC</td>\n",
       "      <td>Surface Pro 8 Hub Docking Station with 4K HDMI...</td>\n",
       "    </tr>\n",
       "    <tr>\n",
       "      <th>3</th>\n",
       "      <td>07/25/2022 15:54:47 UTC</td>\n",
       "      <td>SanDisk Ultra Flair Memoria flash USB 3.0 de 1...</td>\n",
       "    </tr>\n",
       "    <tr>\n",
       "      <th>4</th>\n",
       "      <td>06/21/2022 22:13:26 UTC</td>\n",
       "      <td>Wrist Wraps Weightlifting Powerlifting - Set o...</td>\n",
       "    </tr>\n",
       "  </tbody>\n",
       "</table>\n",
       "</div>"
      ],
      "text/plain": [
       "                Order Date                                       Product Name\n",
       "0  10/18/2022 19:56:58 UTC                      by Amazon Melon & Grape, 300g\n",
       "1  10/14/2022 10:39:19 UTC  IMPROVEFIT Posture Corrector for Men and Women...\n",
       "2  10/14/2022 10:39:19 UTC  Surface Pro 8 Hub Docking Station with 4K HDMI...\n",
       "3  07/25/2022 15:54:47 UTC  SanDisk Ultra Flair Memoria flash USB 3.0 de 1...\n",
       "4  06/21/2022 22:13:26 UTC  Wrist Wraps Weightlifting Powerlifting - Set o..."
      ]
     },
     "execution_count": 39,
     "metadata": {},
     "output_type": "execute_result"
    }
   ],
   "source": [
    "df_1.head()"
   ]
  },
  {
   "cell_type": "code",
   "execution_count": 40,
   "id": "bdcd7aba",
   "metadata": {},
   "outputs": [
    {
     "data": {
      "text/html": [
       "<div>\n",
       "<style scoped>\n",
       "    .dataframe tbody tr th:only-of-type {\n",
       "        vertical-align: middle;\n",
       "    }\n",
       "\n",
       "    .dataframe tbody tr th {\n",
       "        vertical-align: top;\n",
       "    }\n",
       "\n",
       "    .dataframe thead th {\n",
       "        text-align: right;\n",
       "    }\n",
       "</style>\n",
       "<table border=\"1\" class=\"dataframe\">\n",
       "  <thead>\n",
       "    <tr style=\"text-align: right;\">\n",
       "      <th></th>\n",
       "      <th>Order Date</th>\n",
       "      <th>Product Name</th>\n",
       "    </tr>\n",
       "  </thead>\n",
       "  <tbody>\n",
       "    <tr>\n",
       "      <th>37</th>\n",
       "      <td>08/21/2017 12:41:19 UTC</td>\n",
       "      <td>JETech 0870B-SP-WATCH-42-SOFTX3 Clear screen p...</td>\n",
       "    </tr>\n",
       "    <tr>\n",
       "      <th>38</th>\n",
       "      <td>12/30/2016 16:25:28 UTC</td>\n",
       "      <td>EtekcityÂ® PulsiOxÃ­metro de Dedo y Monitor de...</td>\n",
       "    </tr>\n",
       "    <tr>\n",
       "      <th>39</th>\n",
       "      <td>12/05/2016 11:06:37 UTC</td>\n",
       "      <td>Men's Knitted Touch Screen Gloves with grey ti...</td>\n",
       "    </tr>\n",
       "    <tr>\n",
       "      <th>40</th>\n",
       "      <td>10/31/2016 14:06:06 UTC</td>\n",
       "      <td>iPhone 7 Plus Screen Protector, SpigenÂ® [Easy...</td>\n",
       "    </tr>\n",
       "    <tr>\n",
       "      <th>41</th>\n",
       "      <td>10/31/2016 14:06:06 UTC</td>\n",
       "      <td>iPhone 7 Plus Case, SpigenÂ® [Liquid Crystal] ...</td>\n",
       "    </tr>\n",
       "  </tbody>\n",
       "</table>\n",
       "</div>"
      ],
      "text/plain": [
       "                 Order Date                                       Product Name\n",
       "37  08/21/2017 12:41:19 UTC  JETech 0870B-SP-WATCH-42-SOFTX3 Clear screen p...\n",
       "38  12/30/2016 16:25:28 UTC  EtekcityÂ® PulsiOxÃ­metro de Dedo y Monitor de...\n",
       "39  12/05/2016 11:06:37 UTC  Men's Knitted Touch Screen Gloves with grey ti...\n",
       "40  10/31/2016 14:06:06 UTC  iPhone 7 Plus Screen Protector, SpigenÂ® [Easy...\n",
       "41  10/31/2016 14:06:06 UTC  iPhone 7 Plus Case, SpigenÂ® [Liquid Crystal] ..."
      ]
     },
     "execution_count": 40,
     "metadata": {},
     "output_type": "execute_result"
    }
   ],
   "source": [
    "df_1.tail()"
   ]
  },
  {
   "cell_type": "code",
   "execution_count": 41,
   "id": "a4a140db",
   "metadata": {},
   "outputs": [],
   "source": [
    "#let's investigate my minimun order further!"
   ]
  },
  {
   "cell_type": "code",
   "execution_count": 42,
   "id": "d4062c23",
   "metadata": {},
   "outputs": [
    {
     "name": "stdout",
     "output_type": "stream",
     "text": [
      "0     False\n",
      "1     False\n",
      "2     False\n",
      "3     False\n",
      "4     False\n",
      "5     False\n",
      "6     False\n",
      "7     False\n",
      "8     False\n",
      "9     False\n",
      "10     True\n",
      "11    False\n",
      "12     True\n",
      "13    False\n",
      "14    False\n",
      "15    False\n",
      "16    False\n",
      "17    False\n",
      "18    False\n",
      "19    False\n",
      "20    False\n",
      "21    False\n",
      "22    False\n",
      "23    False\n",
      "24    False\n",
      "25    False\n",
      "26    False\n",
      "27    False\n",
      "28    False\n",
      "29    False\n",
      "30    False\n",
      "31    False\n",
      "32    False\n",
      "33    False\n",
      "34    False\n",
      "35    False\n",
      "36    False\n",
      "37    False\n",
      "38    False\n",
      "39    False\n",
      "40    False\n",
      "41    False\n",
      "Name: Total Owed, dtype: bool\n"
     ]
    }
   ],
   "source": [
    "print(df['Total Owed'] < 1)"
   ]
  },
  {
   "cell_type": "code",
   "execution_count": 43,
   "id": "34871a55",
   "metadata": {},
   "outputs": [],
   "source": [
    "# We can see that there are two rows (10, 12) that meet the condition of being less than 1£! Lets print it!"
   ]
  },
  {
   "cell_type": "code",
   "execution_count": 44,
   "id": "94676e35",
   "metadata": {},
   "outputs": [],
   "source": [
    "min_orders = df.loc[df['Total Owed'] < 1, 'Product Name']"
   ]
  },
  {
   "cell_type": "code",
   "execution_count": 45,
   "id": "4872de40",
   "metadata": {},
   "outputs": [
    {
     "name": "stdout",
     "output_type": "stream",
     "text": [
      "10            by Amazon Skimmed Milk, 2 Pints / 1.136L\n",
      "12    by Amazon Rainforest Alliance Bananas, Pack of 5\n",
      "Name: Product Name, dtype: object\n"
     ]
    }
   ],
   "source": [
    "print(min_orders)"
   ]
  },
  {
   "cell_type": "code",
   "execution_count": 46,
   "id": "bbe8f5a9",
   "metadata": {},
   "outputs": [],
   "source": [
    "#Turns out that these orders were not actually orders from Amazon.uk, but items purchased at Amazon fresh store, bananas and milk. "
   ]
  },
  {
   "cell_type": "code",
   "execution_count": 49,
   "id": "929223e5",
   "metadata": {},
   "outputs": [],
   "source": [
    "df['Order Date'] = pd.to_datetime(df['Order Date']).dt.date"
   ]
  },
  {
   "cell_type": "code",
   "execution_count": 51,
   "id": "c53adce7",
   "metadata": {},
   "outputs": [
    {
     "name": "stdout",
     "output_type": "stream",
     "text": [
      "    Order Date  Unit Price  Unit Price Tax  Shipping Charge Total Discounts  \\\n",
      "0   2022-10-18        1.35            0.00             0.00               0   \n",
      "1   2022-10-14       11.99            0.00             0.00               0   \n",
      "2   2022-10-14       23.32            4.67             0.00          '-1.4'   \n",
      "3   2022-07-25       19.81            0.00             0.00               0   \n",
      "4   2022-06-21       10.82            2.17             4.99               0   \n",
      "5   2022-06-09       14.18            0.57             0.00               0   \n",
      "6   2022-05-23        8.26            1.73             2.99               0   \n",
      "7   2022-03-09        8.32            1.67             0.00               0   \n",
      "8   2022-03-08        5.98            1.20             0.00               0   \n",
      "9   2022-02-13        3.50            0.00             0.00         '-2.41'   \n",
      "10  2022-02-13        0.95            0.00             0.00         '-0.58'   \n",
      "11  2022-02-13        4.00            0.00             0.00         '-2.74'   \n",
      "12  2022-02-13        1.25            0.00             0.00         '-0.77'   \n",
      "13  2022-02-10        9.16            1.83             0.00         '-0.55'   \n",
      "14  2022-02-10        6.66            1.33             0.00               0   \n",
      "15  2022-01-24       11.96            0.00             3.99               0   \n",
      "16  2021-11-09       12.26            0.49             0.00               0   \n",
      "17  2021-11-05        9.95            0.00             0.00               0   \n",
      "18  2021-10-10       15.43            0.62             0.00               0   \n",
      "19  2021-09-19        8.22            1.73             0.00               0   \n",
      "20  2021-06-15        7.07            1.42             4.99               0   \n",
      "21  2021-03-21        9.99            0.00             3.99               0   \n",
      "22  2021-01-25       36.99            0.00             0.00               0   \n",
      "23  2021-01-08       16.62            3.33             0.25               0   \n",
      "24  2021-01-08       12.46            2.49             0.25               0   \n",
      "25  2021-01-08       14.99            3.00             0.25               0   \n",
      "26  2020-09-30        7.16            1.43             5.99               0   \n",
      "27  2020-08-06       15.57            3.12             5.99               0   \n",
      "28  2020-04-01       14.04            2.95             0.00               0   \n",
      "29  2020-01-16        8.99            0.00             3.95               0   \n",
      "30  2019-04-13       16.62            3.33             1.50               0   \n",
      "31  2019-03-12        7.99            0.00             2.99               0   \n",
      "32  2018-12-12       35.91            7.54             0.00               0   \n",
      "33  2018-09-19        7.99            0.00             0.00               0   \n",
      "34  2018-09-19       13.99            0.00             0.00               0   \n",
      "35  2017-10-30       14.99            3.00             0.00               0   \n",
      "36  2017-08-21       16.90            0.00             0.00               0   \n",
      "37  2017-08-21        8.99            0.00             0.00               0   \n",
      "38  2016-12-30       29.99            0.00             0.00               0   \n",
      "39  2016-12-05        2.99            0.00             0.00               0   \n",
      "40  2016-10-31        5.99            0.00             0.00               0   \n",
      "41  2016-10-31        6.99            0.00             0.00               0   \n",
      "\n",
      "    Total Owed  Quantity                                       Product Name  \n",
      "0         2.70         2                      by Amazon Melon & Grape, 300g  \n",
      "1        11.99         1  IMPROVEFIT Posture Corrector for Men and Women...  \n",
      "2        26.59         1  Surface Pro 8 Hub Docking Station with 4K HDMI...  \n",
      "3        19.81         1  SanDisk Ultra Flair Memoria flash USB 3.0 de 1...  \n",
      "4        17.98         1  Wrist Wraps Weightlifting Powerlifting - Set o...  \n",
      "5        14.75         1  Swimming In The Dark: 'One of the most astonis...  \n",
      "6        12.98         1  ICZI Cable Mini Displayport a HDMI 1,8m, Adapt...  \n",
      "7         9.99         1  2.4G Wireless Mouse, JKSWT Portable Wireless M...  \n",
      "8         7.18         1  Mini DisplayPort to HDMI Cable, Benfei Mini DP...  \n",
      "9         1.09         1  by Amazon Jamaican Style Jerk Chicken with Ric...  \n",
      "10        0.37         1           by Amazon Skimmed Milk, 2 Pints / 1.136L  \n",
      "11        1.26         1  by Amazon Chicken Katsu Curry with Jasmine Ric...  \n",
      "12        0.48         1   by Amazon Rainforest Alliance Bananas, Pack of 5  \n",
      "13       10.44         1  BOCHAMTEC Multi Plug 2 USB Port Adaptor for TV...  \n",
      "14        7.99         1  Boxclever Press Perfect Year A3 2022 Calendar....  \n",
      "15       15.95         1  Y al final mueren los dos/ They Both Die At Th...  \n",
      "16       12.75         1  How To Fail: Everything I've Ever Learned From...  \n",
      "17        9.95         1  ASIPRO Correas Levantamiento de Pesas, Straps ...  \n",
      "18       16.05         1  Bilogía El día que se perdió la cordura (estuc...  \n",
      "19        9.95         1  ivoler Funda Compatible con iPhone 13 Pro MAX ...  \n",
      "20       13.48         1  FREETOO Adjustable Wrist Support Breathable Wr...  \n",
      "21       13.98         1  BEWAVE Grandes agujeros Cepillo de pelo esponj...  \n",
      "22       36.99         1  TheFitLife Bandas Elasticas Fitness Musculacio...  \n",
      "23       19.95         1  BAD CHOICES - The Have You Ever? Adult Party Game  \n",
      "24       14.95         1  Good Day, Bad Day, Don't Ask Wine Glass, Fun N...  \n",
      "25       17.99         1  RockDove Men's Original Two-Tone Memory Foam S...  \n",
      "26       14.58         1  Goosehill Knee Supports 2Pack,Compression Brea...  \n",
      "27       24.68         1  TV Wall Bracket, Swivels Tilts Extends Rotates...  \n",
      "28       16.99         1  Bandas Elasticas Fitness / Cintas Elásticas de...  \n",
      "29       12.94         1  Windis Funda Compatible con Airpods Pro 2019&#...  \n",
      "30       21.45         1  Firm Spring Back Satin Stripe Hotel Quality Pa...  \n",
      "31       10.98         1  iPhone Xs Max Case,Garegce Clear Shockproof Bu...  \n",
      "32       43.45         1               CASIO FC-100V Calculadora Financiera  \n",
      "33        7.99         1  Wireless Mouse, Jelly Comb 2.4G Computer Mice ...  \n",
      "34       13.99         1  i-Buy 4in1 Kit Hard Shell Case + Keyboard Cove...  \n",
      "35       17.99         1  UK 14V 3A AC Adaptor Power Supply for Samsung ...  \n",
      "36       16.90         1  Bandas y carcasade 42mm para Apple Watch, Zyra...  \n",
      "37        8.99         1  JETech 0870B-SP-WATCH-42-SOFTX3 Clear screen p...  \n",
      "38       29.99         1  EtekcityÂ® PulsiOxÃ­metro de Dedo y Monitor de...  \n",
      "39        2.99         1  Men's Knitted Touch Screen Gloves with grey ti...  \n",
      "40        5.99         1  iPhone 7 Plus Screen Protector, SpigenÂ® [Easy...  \n",
      "41        6.99         1  iPhone 7 Plus Case, SpigenÂ® [Liquid Crystal] ...  \n"
     ]
    }
   ],
   "source": [
    "print(df)"
   ]
  },
  {
   "cell_type": "code",
   "execution_count": 52,
   "id": "d46c604b",
   "metadata": {},
   "outputs": [],
   "source": [
    "import matplotlib.pyplot as plt"
   ]
  },
  {
   "cell_type": "code",
   "execution_count": 57,
   "id": "467c43d7",
   "metadata": {},
   "outputs": [
    {
     "data": {
      "image/png": "[encoded data removed]",
      "text/plain": [
       "<Figure size 2000x3000 with 1 Axes>"
      ]
     },
     "metadata": {},
     "output_type": "display_data"
    }
   ],
   "source": [
    "bar = df.plot.bar(x='Order Date', y='Total Owed', rot= 30, figsize=(20, 30))"
   ]
  },
  {
   "cell_type": "code",
   "execution_count": null,
   "id": "7348d0a3",
   "metadata": {},
   "outputs": [],
   "source": []
  }
 ],
 "metadata": {
  "kernelspec": {
   "display_name": "Python 3 (ipykernel)",
   "language": "python",
   "name": "python3"
  },
  "language_info": {
   "codemirror_mode": {
    "name": "ipython",
    "version": 3
   },
   "file_extension": ".py",
   "mimetype": "text/x-python",
   "name": "python",
   "nbconvert_exporter": "python",
   "pygments_lexer": "ipython3",
   "version": "3.9.13"
  }
 },
 "nbformat": 4,
 "nbformat_minor": 5
}
